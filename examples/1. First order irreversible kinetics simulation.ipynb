{
 "cells": [
  {
   "cell_type": "markdown",
   "metadata": {},
   "source": [
    "# Irreversible first order reaction simulation\n",
    "\n",
    "Irreversible first order reactions are perhaps the most common type of kinteic situations. The general form of these reactions is the following:\n",
    "\n",
    "$$A \\rightarrow B$$\n",
    "\n",
    "The rate of change in the concentrations of each species in this system ([A] and [B]) is defined by a series of ordinary differential equations (ODEs). \n",
    "\n",
    "$$ \\frac{d[A]}{dt} = -k[A] $$\n",
    "$$ \\frac{d[B]}{dt} = k[A] $$\n",
    "\n",
    "Where $k$ is the forward rate constant for the given reaction. For these simple systems, analytical solutions to these equations are easily derived and can be found in any introductory chemistry text or [on the web]. For example, the integrated rate law for a first order reaction is as follows:\n",
    "\n",
    "$$ [A] = [A]_{0}e^{-kt} $$\n",
    "\n",
    "Where $[A]_0$ is the initial concentration of compound *A*. \n",
    "\n",
    "In the example below, we are going to fit some simulated first order kinetic data using traditional fitting techniques with the analytical solution above and with the module *ODEnlls*, which fits the kinetic data using numerical simulations of the reaction ODEs.\n",
    "\n",
    "To start, we'll need to import some extra modules.\n",
    "\n",
    "[on the web]: https://chem.libretexts.org/Core/Physical_and_Theoretical_Chemistry/Kinetics/Reaction_Rates/First-Order_Reactions"
   ]
  },
  {
   "cell_type": "code",
   "execution_count": 1,
   "metadata": {},
   "outputs": [],
   "source": [
    "import io\n",
    "\n",
    "import numpy as np\n",
    "import matplotlib.pyplot as plt\n",
    "\n",
    "np.random.seed(1)"
   ]
  },
  {
   "cell_type": "markdown",
   "metadata": {},
   "source": [
    "The *ODEnlls* module only defines one object class **ODEnlls**, which we'll use here."
   ]
  },
  {
   "cell_type": "code",
   "execution_count": 2,
   "metadata": {},
   "outputs": [],
   "source": [
    "from ODEnlls import ODEnlls"
   ]
  },
  {
   "cell_type": "markdown",
   "metadata": {},
   "source": [
    "## Traditional Analytical Solutions\n",
    "\n",
    "Let's define a function that caculates our first order analytical solution. This saves us a lot of typing in the future, and we can use it for fitting later."
   ]
  },
  {
   "cell_type": "code",
   "execution_count": 3,
   "metadata": {},
   "outputs": [],
   "source": [
    "def first_order(times, c_A0, k1):\n",
    "    return c_A0*np.exp(-k1*times)"
   ]
  },
  {
   "cell_type": "markdown",
   "metadata": {},
   "source": [
    "Let's simulate this function to get a sense of how the data should look."
   ]
  },
  {
   "cell_type": "code",
   "execution_count": 4,
   "metadata": {},
   "outputs": [
    {
     "data": {
      "text/plain": [
       "[<matplotlib.lines.Line2D at 0x233d8ff5278>]"
      ]
     },
     "execution_count": 4,
     "metadata": {},
     "output_type": "execute_result"
    },
    {
     "data": {
      "image/png": "[encoded data removed]",
      "text/plain": [
       "<matplotlib.figure.Figure at 0x233d8f30390>"
      ]
     },
     "metadata": {},
     "output_type": "display_data"
    }
   ],
   "source": [
    "times = np.linspace(0, 100, 1000)\n",
    "A0 = 0.1 # Initial concentration\n",
    "k = 0.05 # rate constant\n",
    "A = first_order(times, A0, k) # Concentrations of A at any time\n",
    "plt.plot(times, A)"
   ]
  },
  {
   "cell_type": "markdown",
   "metadata": {},
   "source": [
    "In order to simulate the behavior of the product, we must define a second analytical equation."
   ]
  },
  {
   "cell_type": "code",
   "execution_count": 5,
   "metadata": {},
   "outputs": [
    {
     "data": {
      "text/plain": [
       "[<matplotlib.lines.Line2D at 0x233d9088da0>]"
      ]
     },
     "execution_count": 5,
     "metadata": {},
     "output_type": "execute_result"
    },
    {
     "data": {
      "image/png": "[encoded data removed]",
      "text/plain": [
       "<matplotlib.figure.Figure at 0x233d8f30240>"
      ]
     },
     "metadata": {},
     "output_type": "display_data"
    }
   ],
   "source": [
    "def first_order_back(times, c_A0, k1):\n",
    "    return c_A0*(1 - np.exp(-k1*times))\n",
    "\n",
    "B = first_order_back(times, A0, k)\n",
    "plt.plot(times, B)"
   ]
  },
  {
   "cell_type": "markdown",
   "metadata": {},
   "source": [
    "## ODEnlls Simulations\n",
    "\n",
    "In order to use **ODEnlls**, we must create a plain text file that contains lines for all of the reactions we expect for the system. There are some rules for how these files should be formatted. \n",
    "\n",
    "1. Each reaction should be on its own line.\n",
    "2. Compounds can have any name that you'd like; however, you may want to avoid names that are subsets of each other. For example, avoid `butane` and `isobutane`. In addition, do not use any of the following special characters, detailed below, in compound names. You will be using these names in some of the later code, so you might want to keep the names simple.\n",
    "3. Compound names should be separated by `+` if they are on the same side of the reaction arrow. \n",
    "4. If two or more of the same compound are reacting/forming, write them as follows `n*compound_name`, where `n` is the number of identical compuonds, and `compound_name` is simply the name you want to use for the compound.\n",
    "5. The starting materials and products should be separated by either `->` for irreversible reactions or `=` for equilibrium reactions.\n",
    "6. Blank lines are ignored. Comment lines can be added as long as they begin with a `#` character.\n",
    "\n",
    "In order to simulate a reaction file, I'll create a `io.StringIO` object that behaves like a typical Python file object that you would get with the `open` function. Here we'll just create a single irreversible reaction of compound *A* being transformed into compound *B*. "
   ]
  },
  {
   "cell_type": "code",
   "execution_count": 6,
   "metadata": {},
   "outputs": [
    {
     "data": {
      "text/plain": [
       "0"
      ]
     },
     "execution_count": 6,
     "metadata": {},
     "output_type": "execute_result"
    }
   ],
   "source": [
    "rxn = 'A -> B'\n",
    "\n",
    "f = io.StringIO('w+')\n",
    "f.write(rxn)\n",
    "f.seek(0)"
   ]
  },
  {
   "cell_type": "markdown",
   "metadata": {},
   "source": [
    "Here we are creating an **ODEnlls** object instance, and using the `read_rxns` method to read our reaction \"file\". Alternatively, the name of the reaction file could be passed as a string to this function, which will internally generate the appropriate file object."
   ]
  },
  {
   "cell_type": "code",
   "execution_count": 7,
   "metadata": {},
   "outputs": [],
   "source": [
    "x = ODEnlls()\n",
    "x.read_rxns(f)"
   ]
  },
  {
   "cell_type": "markdown",
   "metadata": {},
   "source": [
    "After exectuting this function, several new attributes are created inside of our **ODEnlls** object. For example, the `rxns` attribute is simply a list of the reactions that were read in from the reaction file."
   ]
  },
  {
   "cell_type": "code",
   "execution_count": 8,
   "metadata": {},
   "outputs": [
    {
     "data": {
      "text/plain": [
       "['A -> B']"
      ]
     },
     "execution_count": 8,
     "metadata": {},
     "output_type": "execute_result"
    }
   ],
   "source": [
    "x.rxns"
   ]
  },
  {
   "cell_type": "markdown",
   "metadata": {},
   "source": [
    "There is a also another list attribute called `odes` that shows all of the ordinary differential equations for each chemcial species. To see how these ODEs line up with the different chemical species, we will print the ODEs with the associated compounds, which are in a semi-private compound list attirbuted named `_cpds`.  The ODEs have a lot of parentheses and multipliers, which are a result of the automated reaction processing. "
   ]
  },
  {
   "cell_type": "code",
   "execution_count": 9,
   "metadata": {},
   "outputs": [
    {
     "name": "stdout",
     "output_type": "stream",
     "text": [
      "d[A]/dt = 1.00*(-1*k1*(A))\n",
      "d[B]/dt = 1.00*(k1*(A))\n"
     ]
    }
   ],
   "source": [
    "for cpd, ode in zip(x._cpds, x.odes):\n",
    "    print('d['+cpd+']/dt =', ode)"
   ]
  },
  {
   "cell_type": "markdown",
   "metadata": {},
   "source": [
    "Most importantly, a table of simulation parameters is generated as a `Pandas.DataFrame` called `params`. There is a column for *guess* parameters, which will be optimized when we do fitting, and a column *fix* for parameters that will not change during fitting."
   ]
  },
  {
   "cell_type": "code",
   "execution_count": 10,
   "metadata": {},
   "outputs": [
    {
     "data": {
      "text/html": [
       "<div>\n",
       "<style scoped>\n",
       "    .dataframe tbody tr th:only-of-type {\n",
       "        vertical-align: middle;\n",
       "    }\n",
       "\n",
       "    .dataframe tbody tr th {\n",
       "        vertical-align: top;\n",
       "    }\n",
       "\n",
       "    .dataframe thead th {\n",
       "        text-align: right;\n",
       "    }\n",
       "</style>\n",
       "<table border=\"1\" class=\"dataframe\">\n",
       "  <thead>\n",
       "    <tr style=\"text-align: right;\">\n",
       "      <th></th>\n",
       "      <th>guess</th>\n",
       "      <th>fix</th>\n",
       "    </tr>\n",
       "  </thead>\n",
       "  <tbody>\n",
       "    <tr>\n",
       "      <th>A</th>\n",
       "      <td>NaN</td>\n",
       "      <td>NaN</td>\n",
       "    </tr>\n",
       "    <tr>\n",
       "      <th>B</th>\n",
       "      <td>NaN</td>\n",
       "      <td>NaN</td>\n",
       "    </tr>\n",
       "    <tr>\n",
       "      <th>k1</th>\n",
       "      <td>NaN</td>\n",
       "      <td>NaN</td>\n",
       "    </tr>\n",
       "  </tbody>\n",
       "</table>\n",
       "</div>"
      ],
      "text/plain": [
       "    guess  fix\n",
       "A     NaN  NaN\n",
       "B     NaN  NaN\n",
       "k1    NaN  NaN"
      ]
     },
     "execution_count": 10,
     "metadata": {},
     "output_type": "execute_result"
    }
   ],
   "source": [
    "x.params"
   ]
  },
  {
   "cell_type": "markdown",
   "metadata": {},
   "source": [
    "Initially, all of the parameters are set as empty `Numpy.nan` values. Every parameter will need to have either a *guess* or *fix* parameter associated with it. The **ODEnlls** object has a `set_param` method, which can assist in this process. (Alternatively, if you are familiar with Pandas DataFrames, you can set the values directly. They must be added as floating point values, though.)\n",
    "\n",
    "The `set_param` method can be used in a couple of different ways. The first way is to provide a string name of the first compound followed by the associated value that you'd like to use. The default is to set this as a *guess* parameter. We'll see how to fix parameters later."
   ]
  },
  {
   "cell_type": "code",
   "execution_count": 11,
   "metadata": {},
   "outputs": [
    {
     "data": {
      "text/html": [
       "<div>\n",
       "<style scoped>\n",
       "    .dataframe tbody tr th:only-of-type {\n",
       "        vertical-align: middle;\n",
       "    }\n",
       "\n",
       "    .dataframe tbody tr th {\n",
       "        vertical-align: top;\n",
       "    }\n",
       "\n",
       "    .dataframe thead th {\n",
       "        text-align: right;\n",
       "    }\n",
       "</style>\n",
       "<table border=\"1\" class=\"dataframe\">\n",
       "  <thead>\n",
       "    <tr style=\"text-align: right;\">\n",
       "      <th></th>\n",
       "      <th>guess</th>\n",
       "      <th>fix</th>\n",
       "    </tr>\n",
       "  </thead>\n",
       "  <tbody>\n",
       "    <tr>\n",
       "      <th>A</th>\n",
       "      <td>0.1</td>\n",
       "      <td>NaN</td>\n",
       "    </tr>\n",
       "    <tr>\n",
       "      <th>B</th>\n",
       "      <td>NaN</td>\n",
       "      <td>NaN</td>\n",
       "    </tr>\n",
       "    <tr>\n",
       "      <th>k1</th>\n",
       "      <td>NaN</td>\n",
       "      <td>NaN</td>\n",
       "    </tr>\n",
       "  </tbody>\n",
       "</table>\n",
       "</div>"
      ],
      "text/plain": [
       "    guess  fix\n",
       "A     0.1  NaN\n",
       "B     NaN  NaN\n",
       "k1    NaN  NaN"
      ]
     },
     "execution_count": 11,
     "metadata": {},
     "output_type": "execute_result"
    }
   ],
   "source": [
    "x.set_param('A', A0)\n",
    "x.params"
   ]
  },
  {
   "cell_type": "markdown",
   "metadata": {},
   "source": [
    "Alternatively, you can pass in a dictionary of paramters. They dictionary keys need to be compound names, and the values should be the associated parameter values."
   ]
  },
  {
   "cell_type": "code",
   "execution_count": 12,
   "metadata": {},
   "outputs": [
    {
     "data": {
      "text/html": [
       "<div>\n",
       "<style scoped>\n",
       "    .dataframe tbody tr th:only-of-type {\n",
       "        vertical-align: middle;\n",
       "    }\n",
       "\n",
       "    .dataframe tbody tr th {\n",
       "        vertical-align: top;\n",
       "    }\n",
       "\n",
       "    .dataframe thead th {\n",
       "        text-align: right;\n",
       "    }\n",
       "</style>\n",
       "<table border=\"1\" class=\"dataframe\">\n",
       "  <thead>\n",
       "    <tr style=\"text-align: right;\">\n",
       "      <th></th>\n",
       "      <th>guess</th>\n",
       "      <th>fix</th>\n",
       "    </tr>\n",
       "  </thead>\n",
       "  <tbody>\n",
       "    <tr>\n",
       "      <th>A</th>\n",
       "      <td>0.10</td>\n",
       "      <td>NaN</td>\n",
       "    </tr>\n",
       "    <tr>\n",
       "      <th>B</th>\n",
       "      <td>0.00</td>\n",
       "      <td>NaN</td>\n",
       "    </tr>\n",
       "    <tr>\n",
       "      <th>k1</th>\n",
       "      <td>0.05</td>\n",
       "      <td>NaN</td>\n",
       "    </tr>\n",
       "  </tbody>\n",
       "</table>\n",
       "</div>"
      ],
      "text/plain": [
       "    guess  fix\n",
       "A    0.10  NaN\n",
       "B    0.00  NaN\n",
       "k1   0.05  NaN"
      ]
     },
     "execution_count": 12,
     "metadata": {},
     "output_type": "execute_result"
    }
   ],
   "source": [
    "param_dict = {'B': 0.0, 'k1': k} \n",
    "x.set_param(param_dict)\n",
    "x.params"
   ]
  },
  {
   "cell_type": "markdown",
   "metadata": {},
   "source": [
    "The **ODEnlls** object also has a `plot` method for visualizing simulations and data. The first argument to this method is a string that determines the plot type. In this case, we only want to visualize the ODE simulation, so we pass the `'sim'` argument. We can also set the times over which we want to plot the simulation using the `times` keyword argument. The `colorlines` keyword argument causes the simulation lines to be colored (otherwise they will both be black).\n",
    "\n",
    "*Note*: The `plot` method uses Matplotlib internally to generate the plots. There are only `pyplot.plot` function calls, so if this is being used in an non-interactive environment, you'll need to use an explicit `pyplot.show` command, at the least. "
   ]
  },
  {
   "cell_type": "code",
   "execution_count": 13,
   "metadata": {},
   "outputs": [
    {
     "data": {
      "image/png": "[encoded data removed]",
      "text/plain": [
       "<matplotlib.figure.Figure at 0x233d907c3c8>"
      ]
     },
     "metadata": {},
     "output_type": "display_data"
    }
   ],
   "source": [
    "x.plot('sim', times=times, colorlines=True)"
   ]
  },
  {
   "cell_type": "markdown",
   "metadata": {},
   "source": [
    "As you can see, using the ODE simulation generates concentration data for both compounds *A* and *B* simultaneously, which is a benefit to this method. \n",
    "\n",
    "The ODE simulations are identical to the analytical solutions, as we would expect."
   ]
  },
  {
   "cell_type": "code",
   "execution_count": 14,
   "metadata": {},
   "outputs": [
    {
     "data": {
      "text/plain": [
       "[<matplotlib.lines.Line2D at 0x233d9346c88>]"
      ]
     },
     "execution_count": 14,
     "metadata": {},
     "output_type": "execute_result"
    },
    {
     "data": {
      "image/png": "[encoded data removed]",
      "text/plain": [
       "<matplotlib.figure.Figure at 0x233d9333e48>"
      ]
     },
     "metadata": {},
     "output_type": "display_data"
    }
   ],
   "source": [
    "x.plot('sim', times=times, colorlines=True)\n",
    "plt.plot(times, A, 'k--')\n",
    "plt.plot(times, B, 'k--')"
   ]
  },
  {
   "cell_type": "code",
   "execution_count": null,
   "metadata": {},
   "outputs": [],
   "source": []
  }
 ],
 "metadata": {
  "kernelspec": {
   "display_name": "Python 3",
   "language": "python",
   "name": "python3"
  },
  "language_info": {
   "codemirror_mode": {
    "name": "ipython",
    "version": 3
   },
   "file_extension": ".py",
   "mimetype": "text/x-python",
   "name": "python",
   "nbconvert_exporter": "python",
   "pygments_lexer": "ipython3",
   "version": "3.6.3"
  }
 },
 "nbformat": 4,
 "nbformat_minor": 2
}
