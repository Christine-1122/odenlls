{
 "cells": [
  {
   "cell_type": "markdown",
   "metadata": {},
   "source": [
    "# First order reversible reaction kinetics\n",
    "\n",
    "In this notebook, we are going to consider a system where we have a simple first order equilibrium as shown below.\n",
    "\n",
    "$$ A \\rightleftarrows B $$\n",
    "\n",
    "For this type of reaction, the series or ordinary differential equations is slightly more complex than our irreversible case. \n",
    "\n",
    "$$ \\frac{d[A]}{dt} = -k_{1}[A] + k_{-1}[B]$$\n",
    "$$ \\frac{d[B]}{dt} = k_{1}[A] - k_{-1}[B]$$\n",
    "\n",
    "The difference between these differential equations and the ones for an irreversible first order reaction are the terms $k_{-1}[B]$ for the reverse reaction, which use $k_{-1}$ to designate the reverse rate constant. In each equation, these terms represent the regeneration of *A* or the removal *B*, respecitively.\n",
    "\n",
    "Integration of these differential equations is more complicated, but [it can be done](https://chem.libretexts.org/Textbook_Maps/Physical_and_Theoretical_Chemistry_Textbook_Maps/Map%3A_Physical_Chemistry_for_the_Biosciences_%28Chang%29/09%3A_Chemical_Kinetics/9.04%3A_More_Complex_Reactions) to give the following analytical solution:\n",
    "\n",
    "$$ [A] = [A]_{eq} + ([A]_0 - [A]_{eq})e^{-(k_1 + k_{-1})*t} $$\n",
    "\n",
    "In this case, $[A]_{eq}$ is the concentration of *A* at equilibrium, and $[A]_0$ is the starting concentration of *A*. An obvious problem with this solution is that the sum of rate constants, $k_1 + k_{-1}$, is used. This means that fitting observed kinetic data using this equation is going to give the sum of both rate constants. However, if one were to measure the final equilibrium constant for the reaction, $K_{eq}$, you could get each rate constant using the relationship $K_{eq} = \\frac{k_1}{k_{-1}}$.\n",
    "\n",
    "As before, we need to start out by importing all of the necessary modules."
   ]
  },
  {
   "cell_type": "code",
   "execution_count": 1,
   "metadata": {},
   "outputs": [],
   "source": [
    "import io\n",
    "\n",
    "import numpy as np\n",
    "import pandas as pd\n",
    "import matplotlib.pyplot as plt\n",
    "import scipy.optimize as spo"
   ]
  },
  {
   "cell_type": "code",
   "execution_count": 2,
   "metadata": {},
   "outputs": [],
   "source": [
    "from ODEnlls import ODEnlls"
   ]
  },
  {
   "cell_type": "markdown",
   "metadata": {},
   "source": [
    "For this example, we'll use some real-world reaction data that was collected for the self-metathesis of propene in the gas phase. Alkene metatheses are reversible reactions that effectively \"swap\" the substituents on the double bond. In the case of the self-metathesis of propene, we can write the following chemical reaction:\n",
    "\n",
    "$$ Propene + Propene \\rightleftarrows Ethene + 2{\\text -}Butene$$\n",
    "\n",
    "In this case, *2-Butene* can be either the *cis* or more thermodynamically stable *trans* isomer. Obviously, this should be a second order reaction; however, the details of this reaction are more complicated. This reaction requires a catalyst, which is not shown. If we assume that the amount of catalyst is very small and constant, we can approximate this process as a series of first-order equilibria as follows:\n",
    "\n",
    "$$ Propene \\rightleftarrows Ethene $$\n",
    "$$ Propene \\rightleftarrows cis{\\text -}2{\\text -}Butene $$\n",
    "$$ Propene \\rightleftarrows trans{\\text -}2{\\text -}Butene $$\n",
    "\n",
    "Then for this total system, we will need four concentrations and six equilibrium constants (three forward and three reverse).\n",
    "\n",
    "To get started, let's load the data to see what it looks like. The data is stored in a plain-text CSV file, and for convinience, we'll use the `pandas.read_csv` function to create a DataFrame table of data."
   ]
  },
  {
   "cell_type": "code",
   "execution_count": 3,
   "metadata": {},
   "outputs": [
    {
     "data": {
      "text/html": [
       "<div>\n",
       "<style scoped>\n",
       "    .dataframe tbody tr th:only-of-type {\n",
       "        vertical-align: middle;\n",
       "    }\n",
       "\n",
       "    .dataframe tbody tr th {\n",
       "        vertical-align: top;\n",
       "    }\n",
       "\n",
       "    .dataframe thead th {\n",
       "        text-align: right;\n",
       "    }\n",
       "</style>\n",
       "<table border=\"1\" class=\"dataframe\">\n",
       "  <thead>\n",
       "    <tr style=\"text-align: right;\">\n",
       "      <th></th>\n",
       "      <th>Time</th>\n",
       "      <th>Ethene</th>\n",
       "      <th>Propene</th>\n",
       "      <th>trans2Butene</th>\n",
       "      <th>cis2Butene</th>\n",
       "    </tr>\n",
       "  </thead>\n",
       "  <tbody>\n",
       "    <tr>\n",
       "      <th>0</th>\n",
       "      <td>0.67</td>\n",
       "      <td>3.18</td>\n",
       "      <td>161.95</td>\n",
       "      <td>1.44</td>\n",
       "      <td>1.47</td>\n",
       "    </tr>\n",
       "    <tr>\n",
       "      <th>1</th>\n",
       "      <td>2.17</td>\n",
       "      <td>10.57</td>\n",
       "      <td>148.96</td>\n",
       "      <td>5.12</td>\n",
       "      <td>3.41</td>\n",
       "    </tr>\n",
       "    <tr>\n",
       "      <th>2</th>\n",
       "      <td>3.67</td>\n",
       "      <td>15.17</td>\n",
       "      <td>138.48</td>\n",
       "      <td>9.57</td>\n",
       "      <td>4.79</td>\n",
       "    </tr>\n",
       "    <tr>\n",
       "      <th>3</th>\n",
       "      <td>5.17</td>\n",
       "      <td>18.24</td>\n",
       "      <td>131.83</td>\n",
       "      <td>12.59</td>\n",
       "      <td>5.35</td>\n",
       "    </tr>\n",
       "    <tr>\n",
       "      <th>4</th>\n",
       "      <td>6.67</td>\n",
       "      <td>20.30</td>\n",
       "      <td>127.44</td>\n",
       "      <td>14.79</td>\n",
       "      <td>5.48</td>\n",
       "    </tr>\n",
       "    <tr>\n",
       "      <th>5</th>\n",
       "      <td>8.67</td>\n",
       "      <td>22.35</td>\n",
       "      <td>123.37</td>\n",
       "      <td>16.60</td>\n",
       "      <td>5.69</td>\n",
       "    </tr>\n",
       "    <tr>\n",
       "      <th>6</th>\n",
       "      <td>11.18</td>\n",
       "      <td>23.57</td>\n",
       "      <td>120.45</td>\n",
       "      <td>18.23</td>\n",
       "      <td>5.74</td>\n",
       "    </tr>\n",
       "    <tr>\n",
       "      <th>7</th>\n",
       "      <td>14.18</td>\n",
       "      <td>24.52</td>\n",
       "      <td>118.43</td>\n",
       "      <td>19.33</td>\n",
       "      <td>5.72</td>\n",
       "    </tr>\n",
       "    <tr>\n",
       "      <th>8</th>\n",
       "      <td>19.25</td>\n",
       "      <td>25.46</td>\n",
       "      <td>116.82</td>\n",
       "      <td>20.07</td>\n",
       "      <td>5.65</td>\n",
       "    </tr>\n",
       "    <tr>\n",
       "      <th>9</th>\n",
       "      <td>24.32</td>\n",
       "      <td>25.62</td>\n",
       "      <td>116.33</td>\n",
       "      <td>20.41</td>\n",
       "      <td>5.64</td>\n",
       "    </tr>\n",
       "    <tr>\n",
       "      <th>10</th>\n",
       "      <td>29.27</td>\n",
       "      <td>25.94</td>\n",
       "      <td>116.00</td>\n",
       "      <td>20.43</td>\n",
       "      <td>5.63</td>\n",
       "    </tr>\n",
       "    <tr>\n",
       "      <th>11</th>\n",
       "      <td>40.75</td>\n",
       "      <td>25.65</td>\n",
       "      <td>115.84</td>\n",
       "      <td>20.79</td>\n",
       "      <td>5.71</td>\n",
       "    </tr>\n",
       "  </tbody>\n",
       "</table>\n",
       "</div>"
      ],
      "text/plain": [
       "     Time  Ethene  Propene  trans2Butene  cis2Butene\n",
       "0    0.67    3.18   161.95          1.44        1.47\n",
       "1    2.17   10.57   148.96          5.12        3.41\n",
       "2    3.67   15.17   138.48          9.57        4.79\n",
       "3    5.17   18.24   131.83         12.59        5.35\n",
       "4    6.67   20.30   127.44         14.79        5.48\n",
       "5    8.67   22.35   123.37         16.60        5.69\n",
       "6   11.18   23.57   120.45         18.23        5.74\n",
       "7   14.18   24.52   118.43         19.33        5.72\n",
       "8   19.25   25.46   116.82         20.07        5.65\n",
       "9   24.32   25.62   116.33         20.41        5.64\n",
       "10  29.27   25.94   116.00         20.43        5.63\n",
       "11  40.75   25.65   115.84         20.79        5.71"
      ]
     },
     "execution_count": 3,
     "metadata": {},
     "output_type": "execute_result"
    }
   ],
   "source": [
    "eq_data = pd.read_csv('prodata.txt', comment='#')\n",
    "eq_data"
   ]
  },
  {
   "cell_type": "code",
   "execution_count": 4,
   "metadata": {},
   "outputs": [
    {
     "data": {
      "text/plain": [
       "<matplotlib.axes._subplots.AxesSubplot at 0x17dbf955080>"
      ]
     },
     "execution_count": 4,
     "metadata": {},
     "output_type": "execute_result"
    },
    {
     "data": {
      "image/png": "[encoded data removed]",
      "text/plain": [
       "<matplotlib.figure.Figure at 0x17dbf93eef0>"
      ]
     },
     "metadata": {},
     "output_type": "display_data"
    }
   ],
   "source": [
    "eq_data.plot(x='Time', style='o')"
   ]
  },
  {
   "cell_type": "markdown",
   "metadata": {},
   "source": [
    "## Using analytical solutions\n",
    "\n",
    "Again, let's write a function that returns the analytical solution to the first order reversible reaction for any given time."
   ]
  },
  {
   "cell_type": "code",
   "execution_count": 5,
   "metadata": {},
   "outputs": [],
   "source": [
    "def first_order_rev(times, c_A0, c_Aeq, k):\n",
    "    return c_Aeq + (c_A0 - c_Aeq)*np.exp(-k*times)"
   ]
  },
  {
   "cell_type": "markdown",
   "metadata": {},
   "source": [
    "And here's a simple simulation of what this function looks like for some guess parameters."
   ]
  },
  {
   "cell_type": "code",
   "execution_count": 6,
   "metadata": {},
   "outputs": [
    {
     "data": {
      "text/plain": [
       "(0, 102.49988650017559)"
      ]
     },
     "execution_count": 6,
     "metadata": {},
     "output_type": "execute_result"
    },
    {
     "data": {
      "image/png": "[encoded data removed]",
      "text/plain": [
       "<matplotlib.figure.Figure at 0x17dbfa01cf8>"
      ]
     },
     "metadata": {},
     "output_type": "display_data"
    }
   ],
   "source": [
    "times = np.linspace(0, 100, 1000)\n",
    "A0_guess = 100\n",
    "Aeq_guess = 50\n",
    "k_guess = 0.1\n",
    "\n",
    "plt.plot(times, first_order_rev(times, A0_guess, Aeq_guess, k_guess))\n",
    "plt.ylim(ymin=0)"
   ]
  },
  {
   "cell_type": "markdown",
   "metadata": {},
   "source": [
    "We can use this function for fitting our data, but it will only work for our Propene data, because it is the only starting material. Extract this data from the DataFrame. "
   ]
  },
  {
   "cell_type": "code",
   "execution_count": 7,
   "metadata": {},
   "outputs": [],
   "source": [
    "obs_t = eq_data['Time']\n",
    "obs_c = eq_data['Propene']"
   ]
  },
  {
   "cell_type": "markdown",
   "metadata": {},
   "source": [
    "Adn again, we'll fit this data using our standard non-linear least squares function `curve_fit`. "
   ]
  },
  {
   "cell_type": "code",
   "execution_count": 8,
   "metadata": {},
   "outputs": [],
   "source": [
    "fit, cov = spo.curve_fit(first_order_rev, obs_t, obs_c, \n",
    "              p0=(A0_guess, Aeq_guess, k_guess))"
   ]
  },
  {
   "cell_type": "markdown",
   "metadata": {},
   "source": [
    "Here's the final fit parameters and the associated errors."
   ]
  },
  {
   "cell_type": "code",
   "execution_count": 9,
   "metadata": {},
   "outputs": [
    {
     "name": "stdout",
     "output_type": "stream",
     "text": [
      "Fit params: [ 169.79437061  116.14911093    0.23355659]\n",
      "Fit errors: [ 0.41621641  0.15785117  0.00345863]\n"
     ]
    }
   ],
   "source": [
    "sigma = np.sqrt(np.diag(cov))\n",
    "\n",
    "print('Fit params:', fit)\n",
    "print('Fit errors:', sigma)"
   ]
  },
  {
   "cell_type": "markdown",
   "metadata": {},
   "source": [
    "The parameters and errors look okay, but it is always a good idea to plot the results and the residuals to check that things really are okay. In this case, the residual plot shows some non-random structure, which may indicate that a different model is appropriate. This is most likely due to the assumptions we made earlier about the system; unfortunately, it will be very difficult to generate analytical solutions to a more complete system of differential equations."
   ]
  },
  {
   "cell_type": "code",
   "execution_count": 10,
   "metadata": {},
   "outputs": [
    {
     "data": {
      "text/plain": [
       "(0.0, 164.33282948929704)"
      ]
     },
     "execution_count": 10,
     "metadata": {},
     "output_type": "execute_result"
    },
    {
     "data": {
      "image/png": "[encoded data removed]",
      "text/plain": [
       "<matplotlib.figure.Figure at 0x17dbfd66fd0>"
      ]
     },
     "metadata": {},
     "output_type": "display_data"
    }
   ],
   "source": [
    "plt.plot(obs_t, first_order_rev(obs_t, *fit), 'k-')\n",
    "plt.plot(obs_t, obs_c, 'o')\n",
    "plt.ylim(ymin=0.)"
   ]
  },
  {
   "cell_type": "code",
   "execution_count": 11,
   "metadata": {},
   "outputs": [
    {
     "data": {
      "text/plain": [
       "[<matplotlib.lines.Line2D at 0x17dc023fdd8>]"
      ]
     },
     "execution_count": 11,
     "metadata": {},
     "output_type": "execute_result"
    },
    {
     "data": {
      "image/png": "[encoded data removed]",
      "text/plain": [
       "<matplotlib.figure.Figure at 0x17dbfb0e278>"
      ]
     },
     "metadata": {},
     "output_type": "display_data"
    }
   ],
   "source": [
    "plt.plot(obs_t, obs_c-first_order_rev(obs_t, *fit), 'o-')"
   ]
  },
  {
   "cell_type": "markdown",
   "metadata": {},
   "source": [
    "## Using ODEnlls to fit one compound data set\n",
    "\n",
    "We can attempt the same fit using **ODEnlls**. First of all, load in the data using the `read_data` method. In this case, we only want the 'Time' and 'Propene' columns. Remember that this method is simply a wrapper for `pandas.read_csv`, so we can use some of the [keyword arguments for that function](https://pandas.pydata.org/pandas-docs/stable/generated/pandas.read_csv.html) to select the appropriate data."
   ]
  },
  {
   "cell_type": "code",
   "execution_count": 12,
   "metadata": {},
   "outputs": [
    {
     "data": {
      "text/html": [
       "<div>\n",
       "<style scoped>\n",
       "    .dataframe tbody tr th:only-of-type {\n",
       "        vertical-align: middle;\n",
       "    }\n",
       "\n",
       "    .dataframe tbody tr th {\n",
       "        vertical-align: top;\n",
       "    }\n",
       "\n",
       "    .dataframe thead th {\n",
       "        text-align: right;\n",
       "    }\n",
       "</style>\n",
       "<table border=\"1\" class=\"dataframe\">\n",
       "  <thead>\n",
       "    <tr style=\"text-align: right;\">\n",
       "      <th></th>\n",
       "      <th>Time</th>\n",
       "      <th>Propene</th>\n",
       "    </tr>\n",
       "  </thead>\n",
       "  <tbody>\n",
       "    <tr>\n",
       "      <th>0</th>\n",
       "      <td>0.67</td>\n",
       "      <td>161.95</td>\n",
       "    </tr>\n",
       "    <tr>\n",
       "      <th>1</th>\n",
       "      <td>2.17</td>\n",
       "      <td>148.96</td>\n",
       "    </tr>\n",
       "    <tr>\n",
       "      <th>2</th>\n",
       "      <td>3.67</td>\n",
       "      <td>138.48</td>\n",
       "    </tr>\n",
       "    <tr>\n",
       "      <th>3</th>\n",
       "      <td>5.17</td>\n",
       "      <td>131.83</td>\n",
       "    </tr>\n",
       "    <tr>\n",
       "      <th>4</th>\n",
       "      <td>6.67</td>\n",
       "      <td>127.44</td>\n",
       "    </tr>\n",
       "    <tr>\n",
       "      <th>5</th>\n",
       "      <td>8.67</td>\n",
       "      <td>123.37</td>\n",
       "    </tr>\n",
       "    <tr>\n",
       "      <th>6</th>\n",
       "      <td>11.18</td>\n",
       "      <td>120.45</td>\n",
       "    </tr>\n",
       "    <tr>\n",
       "      <th>7</th>\n",
       "      <td>14.18</td>\n",
       "      <td>118.43</td>\n",
       "    </tr>\n",
       "    <tr>\n",
       "      <th>8</th>\n",
       "      <td>19.25</td>\n",
       "      <td>116.82</td>\n",
       "    </tr>\n",
       "    <tr>\n",
       "      <th>9</th>\n",
       "      <td>24.32</td>\n",
       "      <td>116.33</td>\n",
       "    </tr>\n",
       "    <tr>\n",
       "      <th>10</th>\n",
       "      <td>29.27</td>\n",
       "      <td>116.00</td>\n",
       "    </tr>\n",
       "    <tr>\n",
       "      <th>11</th>\n",
       "      <td>40.75</td>\n",
       "      <td>115.84</td>\n",
       "    </tr>\n",
       "  </tbody>\n",
       "</table>\n",
       "</div>"
      ],
      "text/plain": [
       "     Time  Propene\n",
       "0    0.67   161.95\n",
       "1    2.17   148.96\n",
       "2    3.67   138.48\n",
       "3    5.17   131.83\n",
       "4    6.67   127.44\n",
       "5    8.67   123.37\n",
       "6   11.18   120.45\n",
       "7   14.18   118.43\n",
       "8   19.25   116.82\n",
       "9   24.32   116.33\n",
       "10  29.27   116.00\n",
       "11  40.75   115.84"
      ]
     },
     "execution_count": 12,
     "metadata": {},
     "output_type": "execute_result"
    }
   ],
   "source": [
    "x = ODEnlls()\n",
    "x.read_data('prodata.txt', comment='#', usecols=['Time', 'Propene'])\n",
    "x.data"
   ]
  },
  {
   "cell_type": "markdown",
   "metadata": {},
   "source": [
    "We'll also need to load a reaction that we want to use for ODE simulation. In this case, we are assuming this is a first-order reversible reaction. We only care about \"Propene\", so the product of the reaction is just a generic \"products\" placeholder."
   ]
  },
  {
   "cell_type": "code",
   "execution_count": 13,
   "metadata": {},
   "outputs": [
    {
     "data": {
      "text/plain": [
       "['Propene = products']"
      ]
     },
     "execution_count": 13,
     "metadata": {},
     "output_type": "execute_result"
    }
   ],
   "source": [
    "rxn = 'Propene = products'\n",
    "f = io.StringIO('w+')\n",
    "f.write(rxn)\n",
    "f.seek(0)\n",
    "\n",
    "x.read_rxns(f)\n",
    "x.rxns"
   ]
  },
  {
   "cell_type": "code",
   "execution_count": 14,
   "metadata": {},
   "outputs": [
    {
     "data": {
      "text/plain": [
       "['1.00*(-1*k1*(Propene) + k2*(products))',\n",
       " '1.00*(k1*(Propene) + -1*k2*(products))']"
      ]
     },
     "execution_count": 14,
     "metadata": {},
     "output_type": "execute_result"
    }
   ],
   "source": [
    "x.odes"
   ]
  },
  {
   "cell_type": "code",
   "execution_count": 15,
   "metadata": {},
   "outputs": [
    {
     "data": {
      "text/html": [
       "<div>\n",
       "<style scoped>\n",
       "    .dataframe tbody tr th:only-of-type {\n",
       "        vertical-align: middle;\n",
       "    }\n",
       "\n",
       "    .dataframe tbody tr th {\n",
       "        vertical-align: top;\n",
       "    }\n",
       "\n",
       "    .dataframe thead th {\n",
       "        text-align: right;\n",
       "    }\n",
       "</style>\n",
       "<table border=\"1\" class=\"dataframe\">\n",
       "  <thead>\n",
       "    <tr style=\"text-align: right;\">\n",
       "      <th></th>\n",
       "      <th>guess</th>\n",
       "      <th>fix</th>\n",
       "    </tr>\n",
       "  </thead>\n",
       "  <tbody>\n",
       "    <tr>\n",
       "      <th>Propene</th>\n",
       "      <td>NaN</td>\n",
       "      <td>NaN</td>\n",
       "    </tr>\n",
       "    <tr>\n",
       "      <th>products</th>\n",
       "      <td>NaN</td>\n",
       "      <td>NaN</td>\n",
       "    </tr>\n",
       "    <tr>\n",
       "      <th>k1</th>\n",
       "      <td>NaN</td>\n",
       "      <td>NaN</td>\n",
       "    </tr>\n",
       "    <tr>\n",
       "      <th>k2</th>\n",
       "      <td>NaN</td>\n",
       "      <td>NaN</td>\n",
       "    </tr>\n",
       "  </tbody>\n",
       "</table>\n",
       "</div>"
      ],
      "text/plain": [
       "          guess  fix\n",
       "Propene     NaN  NaN\n",
       "products    NaN  NaN\n",
       "k1          NaN  NaN\n",
       "k2          NaN  NaN"
      ]
     },
     "execution_count": 15,
     "metadata": {},
     "output_type": "execute_result"
    }
   ],
   "source": [
    "x.params"
   ]
  },
  {
   "cell_type": "markdown",
   "metadata": {},
   "source": [
    "Here we'll set our fit parameters. Unlike the analytical solution, there is no $[A]_{eq}$; however, we do have to define both rate constants instead. We will assume that we start with no products, and make sure that this parameter is fixed. (We don't have any \"products\" data to fit this parameter to anyway, so we have to fix it no matter what.)"
   ]
  },
  {
   "cell_type": "code",
   "execution_count": 16,
   "metadata": {},
   "outputs": [],
   "source": [
    "x.set_param('Propene', A0_guess)\n",
    "x.set_param('k1', k_guess)\n",
    "x.set_param('k2', k_guess)\n",
    "\n",
    "x.set_param('products', 0.0, ptype='fix')"
   ]
  },
  {
   "cell_type": "code",
   "execution_count": 17,
   "metadata": {},
   "outputs": [
    {
     "data": {
      "text/html": [
       "<div>\n",
       "<style scoped>\n",
       "    .dataframe tbody tr th:only-of-type {\n",
       "        vertical-align: middle;\n",
       "    }\n",
       "\n",
       "    .dataframe tbody tr th {\n",
       "        vertical-align: top;\n",
       "    }\n",
       "\n",
       "    .dataframe thead th {\n",
       "        text-align: right;\n",
       "    }\n",
       "</style>\n",
       "<table border=\"1\" class=\"dataframe\">\n",
       "  <thead>\n",
       "    <tr style=\"text-align: right;\">\n",
       "      <th></th>\n",
       "      <th>guess</th>\n",
       "      <th>fix</th>\n",
       "    </tr>\n",
       "  </thead>\n",
       "  <tbody>\n",
       "    <tr>\n",
       "      <th>Propene</th>\n",
       "      <td>100.0</td>\n",
       "      <td>NaN</td>\n",
       "    </tr>\n",
       "    <tr>\n",
       "      <th>products</th>\n",
       "      <td>NaN</td>\n",
       "      <td>0.0</td>\n",
       "    </tr>\n",
       "    <tr>\n",
       "      <th>k1</th>\n",
       "      <td>0.1</td>\n",
       "      <td>NaN</td>\n",
       "    </tr>\n",
       "    <tr>\n",
       "      <th>k2</th>\n",
       "      <td>0.1</td>\n",
       "      <td>NaN</td>\n",
       "    </tr>\n",
       "  </tbody>\n",
       "</table>\n",
       "</div>"
      ],
      "text/plain": [
       "          guess  fix\n",
       "Propene   100.0  NaN\n",
       "products    NaN  0.0\n",
       "k1          0.1  NaN\n",
       "k2          0.1  NaN"
      ]
     },
     "execution_count": 17,
     "metadata": {},
     "output_type": "execute_result"
    }
   ],
   "source": [
    "x.params"
   ]
  },
  {
   "cell_type": "markdown",
   "metadata": {},
   "source": [
    "Because our rate constants are identical, our equilibrium should result in equal amounts of Propene and products. (I.e. the equilibrium constant is equal to 1.)"
   ]
  },
  {
   "cell_type": "code",
   "execution_count": 18,
   "metadata": {},
   "outputs": [
    {
     "data": {
      "image/png": "[encoded data removed]",
      "text/plain": [
       "<matplotlib.figure.Figure at 0x17dbfa12160>"
      ]
     },
     "metadata": {},
     "output_type": "display_data"
    }
   ],
   "source": [
    "x.plot('sim', colorlines=True)"
   ]
  },
  {
   "cell_type": "code",
   "execution_count": 19,
   "metadata": {},
   "outputs": [
    {
     "data": {
      "image/png": "[encoded data removed]",
      "text/plain": [
       "<matplotlib.figure.Figure at 0x17dc01bb908>"
      ]
     },
     "metadata": {},
     "output_type": "display_data"
    }
   ],
   "source": [
    "x.plot('guess', colorlines=True)"
   ]
  },
  {
   "cell_type": "markdown",
   "metadata": {},
   "source": [
    "After fitting the data, we see that our ODEnlls fit is visually idential to the fit we got with the analytical equation."
   ]
  },
  {
   "cell_type": "code",
   "execution_count": 20,
   "metadata": {},
   "outputs": [],
   "source": [
    "x.run_fit()"
   ]
  },
  {
   "cell_type": "code",
   "execution_count": 21,
   "metadata": {},
   "outputs": [
    {
     "data": {
      "image/png": "[encoded data removed]",
      "text/plain": [
       "<matplotlib.figure.Figure at 0x17dc02a60b8>"
      ]
     },
     "metadata": {},
     "output_type": "display_data"
    }
   ],
   "source": [
    "x.plot('fit')"
   ]
  },
  {
   "cell_type": "code",
   "execution_count": 22,
   "metadata": {},
   "outputs": [
    {
     "data": {
      "image/png": "[encoded data removed]",
      "text/plain": [
       "<matplotlib.figure.Figure at 0x17dc02bfac8>"
      ]
     },
     "metadata": {},
     "output_type": "display_data"
    }
   ],
   "source": [
    "x.plot('res')"
   ]
  },
  {
   "cell_type": "markdown",
   "metadata": {},
   "source": [
    "We can compare the new fit parameters to the fit parameters we got from the analytical equation, which for reference are as follows:\n",
    "\n",
    "    Fit params: [ 169.79437061  116.14911093    0.23355659]\n",
    "    Fit errors: [ 0.41621641  0.15785117  0.00345863]"
   ]
  },
  {
   "cell_type": "code",
   "execution_count": 23,
   "metadata": {},
   "outputs": [
    {
     "data": {
      "text/html": [
       "<div>\n",
       "<style scoped>\n",
       "    .dataframe tbody tr th:only-of-type {\n",
       "        vertical-align: middle;\n",
       "    }\n",
       "\n",
       "    .dataframe tbody tr th {\n",
       "        vertical-align: top;\n",
       "    }\n",
       "\n",
       "    .dataframe thead th {\n",
       "        text-align: right;\n",
       "    }\n",
       "</style>\n",
       "<table border=\"1\" class=\"dataframe\">\n",
       "  <thead>\n",
       "    <tr style=\"text-align: right;\">\n",
       "      <th></th>\n",
       "      <th>guess</th>\n",
       "      <th>fix</th>\n",
       "      <th>fit</th>\n",
       "      <th>error</th>\n",
       "    </tr>\n",
       "  </thead>\n",
       "  <tbody>\n",
       "    <tr>\n",
       "      <th>Propene</th>\n",
       "      <td>100.0</td>\n",
       "      <td>NaN</td>\n",
       "      <td>162.023652</td>\n",
       "      <td>0.292921</td>\n",
       "    </tr>\n",
       "    <tr>\n",
       "      <th>products</th>\n",
       "      <td>NaN</td>\n",
       "      <td>0.0</td>\n",
       "      <td>0.000000</td>\n",
       "      <td>NaN</td>\n",
       "    </tr>\n",
       "    <tr>\n",
       "      <th>k1</th>\n",
       "      <td>0.1</td>\n",
       "      <td>NaN</td>\n",
       "      <td>0.066128</td>\n",
       "      <td>0.001062</td>\n",
       "    </tr>\n",
       "    <tr>\n",
       "      <th>k2</th>\n",
       "      <td>0.1</td>\n",
       "      <td>NaN</td>\n",
       "      <td>0.167429</td>\n",
       "      <td>0.002481</td>\n",
       "    </tr>\n",
       "  </tbody>\n",
       "</table>\n",
       "</div>"
      ],
      "text/plain": [
       "          guess  fix         fit     error\n",
       "Propene   100.0  NaN  162.023652  0.292921\n",
       "products    NaN  0.0    0.000000       NaN\n",
       "k1          0.1  NaN    0.066128  0.001062\n",
       "k2          0.1  NaN    0.167429  0.002481"
      ]
     },
     "execution_count": 23,
     "metadata": {},
     "output_type": "execute_result"
    }
   ],
   "source": [
    "x.params"
   ]
  },
  {
   "cell_type": "markdown",
   "metadata": {},
   "source": [
    "These numbers are quite a bit different, but there are couple of things to keep in mind.\n",
    "\n",
    "1. ODEnlls fits the data starting at the first time point, which in this case is *not* 0. That means that the fitted value for Propene is the concentration at the first time point in the data set, which is 0.67.\n",
    "2. The $k$ value in the analytical solution is the sum of both rate constants. We can easily sum the rate constants from the ODEnlls fit, but we can't sum the errors directly. We can sum the variances, though, so a solution will be to do the following:\n",
    "$$ error_{k_1 + k_2} = \\sqrt{error_{k_1}^2 + error_{k_2}^2}$$\n",
    "\n",
    "As we can see, the sum of k values is essentially idential but the error is slightly smaller."
   ]
  },
  {
   "cell_type": "code",
   "execution_count": 24,
   "metadata": {},
   "outputs": [
    {
     "name": "stdout",
     "output_type": "stream",
     "text": [
      "k sum: 0.233556695749\n",
      "k error: 0.00269831749409\n"
     ]
    }
   ],
   "source": [
    "print('k sum:', x.params.loc[['k1', 'k2'], 'fit'].sum())\n",
    "print('k error:', np.sqrt((x.params.loc[['k1', 'k2'], 'error']**2).sum()))"
   ]
  },
  {
   "cell_type": "markdown",
   "metadata": {},
   "source": [
    "## Using ODEnlls to fit entire data set\n",
    "\n",
    "The fitting examples we've seen so far have all been soluble using analytical solutions to the differential equations. Where **ODEnlls** excels over fitting using conventional analytical solutions, though, is that you can define a complete sytem of chemical reactions, which means that you can simultaneously fit an entire data set for all concentrations. \n",
    "\n",
    "As an example, let's do a fit of the complete data set from this reaction."
   ]
  },
  {
   "cell_type": "code",
   "execution_count": 25,
   "metadata": {},
   "outputs": [
    {
     "data": {
      "text/html": [
       "<div>\n",
       "<style scoped>\n",
       "    .dataframe tbody tr th:only-of-type {\n",
       "        vertical-align: middle;\n",
       "    }\n",
       "\n",
       "    .dataframe tbody tr th {\n",
       "        vertical-align: top;\n",
       "    }\n",
       "\n",
       "    .dataframe thead th {\n",
       "        text-align: right;\n",
       "    }\n",
       "</style>\n",
       "<table border=\"1\" class=\"dataframe\">\n",
       "  <thead>\n",
       "    <tr style=\"text-align: right;\">\n",
       "      <th></th>\n",
       "      <th>Time</th>\n",
       "      <th>Ethene</th>\n",
       "      <th>Propene</th>\n",
       "      <th>trans2Butene</th>\n",
       "      <th>cis2Butene</th>\n",
       "    </tr>\n",
       "  </thead>\n",
       "  <tbody>\n",
       "    <tr>\n",
       "      <th>0</th>\n",
       "      <td>0.67</td>\n",
       "      <td>3.18</td>\n",
       "      <td>161.95</td>\n",
       "      <td>1.44</td>\n",
       "      <td>1.47</td>\n",
       "    </tr>\n",
       "    <tr>\n",
       "      <th>1</th>\n",
       "      <td>2.17</td>\n",
       "      <td>10.57</td>\n",
       "      <td>148.96</td>\n",
       "      <td>5.12</td>\n",
       "      <td>3.41</td>\n",
       "    </tr>\n",
       "    <tr>\n",
       "      <th>2</th>\n",
       "      <td>3.67</td>\n",
       "      <td>15.17</td>\n",
       "      <td>138.48</td>\n",
       "      <td>9.57</td>\n",
       "      <td>4.79</td>\n",
       "    </tr>\n",
       "    <tr>\n",
       "      <th>3</th>\n",
       "      <td>5.17</td>\n",
       "      <td>18.24</td>\n",
       "      <td>131.83</td>\n",
       "      <td>12.59</td>\n",
       "      <td>5.35</td>\n",
       "    </tr>\n",
       "    <tr>\n",
       "      <th>4</th>\n",
       "      <td>6.67</td>\n",
       "      <td>20.30</td>\n",
       "      <td>127.44</td>\n",
       "      <td>14.79</td>\n",
       "      <td>5.48</td>\n",
       "    </tr>\n",
       "    <tr>\n",
       "      <th>5</th>\n",
       "      <td>8.67</td>\n",
       "      <td>22.35</td>\n",
       "      <td>123.37</td>\n",
       "      <td>16.60</td>\n",
       "      <td>5.69</td>\n",
       "    </tr>\n",
       "    <tr>\n",
       "      <th>6</th>\n",
       "      <td>11.18</td>\n",
       "      <td>23.57</td>\n",
       "      <td>120.45</td>\n",
       "      <td>18.23</td>\n",
       "      <td>5.74</td>\n",
       "    </tr>\n",
       "    <tr>\n",
       "      <th>7</th>\n",
       "      <td>14.18</td>\n",
       "      <td>24.52</td>\n",
       "      <td>118.43</td>\n",
       "      <td>19.33</td>\n",
       "      <td>5.72</td>\n",
       "    </tr>\n",
       "    <tr>\n",
       "      <th>8</th>\n",
       "      <td>19.25</td>\n",
       "      <td>25.46</td>\n",
       "      <td>116.82</td>\n",
       "      <td>20.07</td>\n",
       "      <td>5.65</td>\n",
       "    </tr>\n",
       "    <tr>\n",
       "      <th>9</th>\n",
       "      <td>24.32</td>\n",
       "      <td>25.62</td>\n",
       "      <td>116.33</td>\n",
       "      <td>20.41</td>\n",
       "      <td>5.64</td>\n",
       "    </tr>\n",
       "    <tr>\n",
       "      <th>10</th>\n",
       "      <td>29.27</td>\n",
       "      <td>25.94</td>\n",
       "      <td>116.00</td>\n",
       "      <td>20.43</td>\n",
       "      <td>5.63</td>\n",
       "    </tr>\n",
       "    <tr>\n",
       "      <th>11</th>\n",
       "      <td>40.75</td>\n",
       "      <td>25.65</td>\n",
       "      <td>115.84</td>\n",
       "      <td>20.79</td>\n",
       "      <td>5.71</td>\n",
       "    </tr>\n",
       "  </tbody>\n",
       "</table>\n",
       "</div>"
      ],
      "text/plain": [
       "     Time  Ethene  Propene  trans2Butene  cis2Butene\n",
       "0    0.67    3.18   161.95          1.44        1.47\n",
       "1    2.17   10.57   148.96          5.12        3.41\n",
       "2    3.67   15.17   138.48          9.57        4.79\n",
       "3    5.17   18.24   131.83         12.59        5.35\n",
       "4    6.67   20.30   127.44         14.79        5.48\n",
       "5    8.67   22.35   123.37         16.60        5.69\n",
       "6   11.18   23.57   120.45         18.23        5.74\n",
       "7   14.18   24.52   118.43         19.33        5.72\n",
       "8   19.25   25.46   116.82         20.07        5.65\n",
       "9   24.32   25.62   116.33         20.41        5.64\n",
       "10  29.27   25.94   116.00         20.43        5.63\n",
       "11  40.75   25.65   115.84         20.79        5.71"
      ]
     },
     "execution_count": 25,
     "metadata": {},
     "output_type": "execute_result"
    }
   ],
   "source": [
    "x = ODEnlls()\n",
    "x.read_data('prodata.txt', comment='#')\n",
    "x.data"
   ]
  },
  {
   "cell_type": "markdown",
   "metadata": {},
   "source": [
    "The complete set of reactions is the three first-order reversible reactions that we defined at the beginning of this notebook."
   ]
  },
  {
   "cell_type": "code",
   "execution_count": 26,
   "metadata": {},
   "outputs": [
    {
     "data": {
      "text/plain": [
       "['Propene = Ethene', 'Propene = cis2Butene', 'Propene = trans2Butene']"
      ]
     },
     "execution_count": 26,
     "metadata": {},
     "output_type": "execute_result"
    }
   ],
   "source": [
    "x.read_rxns('prorxn.txt')\n",
    "x.rxns"
   ]
  },
  {
   "cell_type": "code",
   "execution_count": 27,
   "metadata": {},
   "outputs": [
    {
     "data": {
      "text/html": [
       "<div>\n",
       "<style scoped>\n",
       "    .dataframe tbody tr th:only-of-type {\n",
       "        vertical-align: middle;\n",
       "    }\n",
       "\n",
       "    .dataframe tbody tr th {\n",
       "        vertical-align: top;\n",
       "    }\n",
       "\n",
       "    .dataframe thead th {\n",
       "        text-align: right;\n",
       "    }\n",
       "</style>\n",
       "<table border=\"1\" class=\"dataframe\">\n",
       "  <thead>\n",
       "    <tr style=\"text-align: right;\">\n",
       "      <th></th>\n",
       "      <th>guess</th>\n",
       "      <th>fix</th>\n",
       "    </tr>\n",
       "  </thead>\n",
       "  <tbody>\n",
       "    <tr>\n",
       "      <th>Propene</th>\n",
       "      <td>NaN</td>\n",
       "      <td>NaN</td>\n",
       "    </tr>\n",
       "    <tr>\n",
       "      <th>Ethene</th>\n",
       "      <td>NaN</td>\n",
       "      <td>NaN</td>\n",
       "    </tr>\n",
       "    <tr>\n",
       "      <th>cis2Butene</th>\n",
       "      <td>NaN</td>\n",
       "      <td>NaN</td>\n",
       "    </tr>\n",
       "    <tr>\n",
       "      <th>trans2Butene</th>\n",
       "      <td>NaN</td>\n",
       "      <td>NaN</td>\n",
       "    </tr>\n",
       "    <tr>\n",
       "      <th>k1</th>\n",
       "      <td>NaN</td>\n",
       "      <td>NaN</td>\n",
       "    </tr>\n",
       "    <tr>\n",
       "      <th>k2</th>\n",
       "      <td>NaN</td>\n",
       "      <td>NaN</td>\n",
       "    </tr>\n",
       "    <tr>\n",
       "      <th>k3</th>\n",
       "      <td>NaN</td>\n",
       "      <td>NaN</td>\n",
       "    </tr>\n",
       "    <tr>\n",
       "      <th>k4</th>\n",
       "      <td>NaN</td>\n",
       "      <td>NaN</td>\n",
       "    </tr>\n",
       "    <tr>\n",
       "      <th>k5</th>\n",
       "      <td>NaN</td>\n",
       "      <td>NaN</td>\n",
       "    </tr>\n",
       "    <tr>\n",
       "      <th>k6</th>\n",
       "      <td>NaN</td>\n",
       "      <td>NaN</td>\n",
       "    </tr>\n",
       "  </tbody>\n",
       "</table>\n",
       "</div>"
      ],
      "text/plain": [
       "              guess  fix\n",
       "Propene         NaN  NaN\n",
       "Ethene          NaN  NaN\n",
       "cis2Butene      NaN  NaN\n",
       "trans2Butene    NaN  NaN\n",
       "k1              NaN  NaN\n",
       "k2              NaN  NaN\n",
       "k3              NaN  NaN\n",
       "k4              NaN  NaN\n",
       "k5              NaN  NaN\n",
       "k6              NaN  NaN"
      ]
     },
     "execution_count": 27,
     "metadata": {},
     "output_type": "execute_result"
    }
   ],
   "source": [
    "x.params"
   ]
  },
  {
   "cell_type": "markdown",
   "metadata": {},
   "source": [
    "For this fit, it turns out that we can set all of the guess parameters for the fit as zero. (This only works for this particular example. In other cases, you will most likely need to play around with the starting values to get a meaningful fit.)"
   ]
  },
  {
   "cell_type": "code",
   "execution_count": 28,
   "metadata": {},
   "outputs": [
    {
     "data": {
      "text/html": [
       "<div>\n",
       "<style scoped>\n",
       "    .dataframe tbody tr th:only-of-type {\n",
       "        vertical-align: middle;\n",
       "    }\n",
       "\n",
       "    .dataframe tbody tr th {\n",
       "        vertical-align: top;\n",
       "    }\n",
       "\n",
       "    .dataframe thead th {\n",
       "        text-align: right;\n",
       "    }\n",
       "</style>\n",
       "<table border=\"1\" class=\"dataframe\">\n",
       "  <thead>\n",
       "    <tr style=\"text-align: right;\">\n",
       "      <th></th>\n",
       "      <th>guess</th>\n",
       "      <th>fix</th>\n",
       "    </tr>\n",
       "  </thead>\n",
       "  <tbody>\n",
       "    <tr>\n",
       "      <th>Propene</th>\n",
       "      <td>0.0</td>\n",
       "      <td>NaN</td>\n",
       "    </tr>\n",
       "    <tr>\n",
       "      <th>Ethene</th>\n",
       "      <td>0.0</td>\n",
       "      <td>NaN</td>\n",
       "    </tr>\n",
       "    <tr>\n",
       "      <th>cis2Butene</th>\n",
       "      <td>0.0</td>\n",
       "      <td>NaN</td>\n",
       "    </tr>\n",
       "    <tr>\n",
       "      <th>trans2Butene</th>\n",
       "      <td>0.0</td>\n",
       "      <td>NaN</td>\n",
       "    </tr>\n",
       "    <tr>\n",
       "      <th>k1</th>\n",
       "      <td>0.0</td>\n",
       "      <td>NaN</td>\n",
       "    </tr>\n",
       "    <tr>\n",
       "      <th>k2</th>\n",
       "      <td>0.0</td>\n",
       "      <td>NaN</td>\n",
       "    </tr>\n",
       "    <tr>\n",
       "      <th>k3</th>\n",
       "      <td>0.0</td>\n",
       "      <td>NaN</td>\n",
       "    </tr>\n",
       "    <tr>\n",
       "      <th>k4</th>\n",
       "      <td>0.0</td>\n",
       "      <td>NaN</td>\n",
       "    </tr>\n",
       "    <tr>\n",
       "      <th>k5</th>\n",
       "      <td>0.0</td>\n",
       "      <td>NaN</td>\n",
       "    </tr>\n",
       "    <tr>\n",
       "      <th>k6</th>\n",
       "      <td>0.0</td>\n",
       "      <td>NaN</td>\n",
       "    </tr>\n",
       "  </tbody>\n",
       "</table>\n",
       "</div>"
      ],
      "text/plain": [
       "              guess  fix\n",
       "Propene         0.0  NaN\n",
       "Ethene          0.0  NaN\n",
       "cis2Butene      0.0  NaN\n",
       "trans2Butene    0.0  NaN\n",
       "k1              0.0  NaN\n",
       "k2              0.0  NaN\n",
       "k3              0.0  NaN\n",
       "k4              0.0  NaN\n",
       "k5              0.0  NaN\n",
       "k6              0.0  NaN"
      ]
     },
     "execution_count": 28,
     "metadata": {},
     "output_type": "execute_result"
    }
   ],
   "source": [
    "x.params['guess'] = 0.0\n",
    "x.params"
   ]
  },
  {
   "cell_type": "code",
   "execution_count": 29,
   "metadata": {},
   "outputs": [],
   "source": [
    "x.run_fit()"
   ]
  },
  {
   "cell_type": "markdown",
   "metadata": {},
   "source": [
    "After funning the fit, we can see that we've got reasonable fit parameters for all of our reactions. "
   ]
  },
  {
   "cell_type": "code",
   "execution_count": 30,
   "metadata": {},
   "outputs": [
    {
     "data": {
      "text/html": [
       "<div>\n",
       "<style scoped>\n",
       "    .dataframe tbody tr th:only-of-type {\n",
       "        vertical-align: middle;\n",
       "    }\n",
       "\n",
       "    .dataframe tbody tr th {\n",
       "        vertical-align: top;\n",
       "    }\n",
       "\n",
       "    .dataframe thead th {\n",
       "        text-align: right;\n",
       "    }\n",
       "</style>\n",
       "<table border=\"1\" class=\"dataframe\">\n",
       "  <thead>\n",
       "    <tr style=\"text-align: right;\">\n",
       "      <th></th>\n",
       "      <th>guess</th>\n",
       "      <th>fix</th>\n",
       "      <th>fit</th>\n",
       "      <th>error</th>\n",
       "    </tr>\n",
       "  </thead>\n",
       "  <tbody>\n",
       "    <tr>\n",
       "      <th>Propene</th>\n",
       "      <td>0.0</td>\n",
       "      <td>NaN</td>\n",
       "      <td>162.151714</td>\n",
       "      <td>0.221074</td>\n",
       "    </tr>\n",
       "    <tr>\n",
       "      <th>Ethene</th>\n",
       "      <td>0.0</td>\n",
       "      <td>NaN</td>\n",
       "      <td>3.521668</td>\n",
       "      <td>0.210429</td>\n",
       "    </tr>\n",
       "    <tr>\n",
       "      <th>cis2Butene</th>\n",
       "      <td>0.0</td>\n",
       "      <td>NaN</td>\n",
       "      <td>1.463520</td>\n",
       "      <td>0.222220</td>\n",
       "    </tr>\n",
       "    <tr>\n",
       "      <th>trans2Butene</th>\n",
       "      <td>0.0</td>\n",
       "      <td>NaN</td>\n",
       "      <td>0.872110</td>\n",
       "      <td>0.204150</td>\n",
       "    </tr>\n",
       "    <tr>\n",
       "      <th>k1</th>\n",
       "      <td>0.0</td>\n",
       "      <td>NaN</td>\n",
       "      <td>0.036267</td>\n",
       "      <td>0.000639</td>\n",
       "    </tr>\n",
       "    <tr>\n",
       "      <th>k2</th>\n",
       "      <td>0.0</td>\n",
       "      <td>NaN</td>\n",
       "      <td>0.164353</td>\n",
       "      <td>0.003376</td>\n",
       "    </tr>\n",
       "    <tr>\n",
       "      <th>k3</th>\n",
       "      <td>0.0</td>\n",
       "      <td>NaN</td>\n",
       "      <td>0.013267</td>\n",
       "      <td>0.001120</td>\n",
       "    </tr>\n",
       "    <tr>\n",
       "      <th>k4</th>\n",
       "      <td>0.0</td>\n",
       "      <td>NaN</td>\n",
       "      <td>0.275604</td>\n",
       "      <td>0.025469</td>\n",
       "    </tr>\n",
       "    <tr>\n",
       "      <th>k5</th>\n",
       "      <td>0.0</td>\n",
       "      <td>NaN</td>\n",
       "      <td>0.025251</td>\n",
       "      <td>0.000500</td>\n",
       "    </tr>\n",
       "    <tr>\n",
       "      <th>k6</th>\n",
       "      <td>0.0</td>\n",
       "      <td>NaN</td>\n",
       "      <td>0.140921</td>\n",
       "      <td>0.003375</td>\n",
       "    </tr>\n",
       "  </tbody>\n",
       "</table>\n",
       "</div>"
      ],
      "text/plain": [
       "              guess  fix         fit     error\n",
       "Propene         0.0  NaN  162.151714  0.221074\n",
       "Ethene          0.0  NaN    3.521668  0.210429\n",
       "cis2Butene      0.0  NaN    1.463520  0.222220\n",
       "trans2Butene    0.0  NaN    0.872110  0.204150\n",
       "k1              0.0  NaN    0.036267  0.000639\n",
       "k2              0.0  NaN    0.164353  0.003376\n",
       "k3              0.0  NaN    0.013267  0.001120\n",
       "k4              0.0  NaN    0.275604  0.025469\n",
       "k5              0.0  NaN    0.025251  0.000500\n",
       "k6              0.0  NaN    0.140921  0.003375"
      ]
     },
     "execution_count": 30,
     "metadata": {},
     "output_type": "execute_result"
    }
   ],
   "source": [
    "x.params"
   ]
  },
  {
   "cell_type": "markdown",
   "metadata": {},
   "source": [
    "In addition, the fit plots look like they match very well with our intut data, and the residuals all seem to be reasonable."
   ]
  },
  {
   "cell_type": "code",
   "execution_count": 31,
   "metadata": {},
   "outputs": [
    {
     "data": {
      "image/png": "[encoded data removed]",
      "text/plain": [
       "<matplotlib.figure.Figure at 0x17dbfa960b8>"
      ]
     },
     "metadata": {},
     "output_type": "display_data"
    }
   ],
   "source": [
    "x.plot('fit')"
   ]
  },
  {
   "cell_type": "code",
   "execution_count": 32,
   "metadata": {},
   "outputs": [
    {
     "data": {
      "image/png": "[encoded data removed]",
      "text/plain": [
       "<matplotlib.figure.Figure at 0x17dc17e73c8>"
      ]
     },
     "metadata": {},
     "output_type": "display_data"
    }
   ],
   "source": [
    "x.plot('res')"
   ]
  },
  {
   "cell_type": "code",
   "execution_count": null,
   "metadata": {},
   "outputs": [],
   "source": []
  }
 ],
 "metadata": {
  "kernelspec": {
   "display_name": "Python 3",
   "language": "python",
   "name": "python3"
  },
  "language_info": {
   "codemirror_mode": {
    "name": "ipython",
    "version": 3
   },
   "file_extension": ".py",
   "mimetype": "text/x-python",
   "name": "python",
   "nbconvert_exporter": "python",
   "pygments_lexer": "ipython3",
   "version": "3.6.3"
  }
 },
 "nbformat": 4,
 "nbformat_minor": 2
}
